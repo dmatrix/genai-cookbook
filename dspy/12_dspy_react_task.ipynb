{
 "cells": [
  {
   "cell_type": "markdown",
   "id": "5e553a3d-8bda-4a7e-b475-d137cd33d99f",
   "metadata": {},
   "source": [
    "<img src=\"images/dspy_img.png\" height=\"35%\" width=\"%65\">\n",
    "\n",
    "## ReAct Technique\n",
    "First introduced in a paper by [Yao et al., 2022](https://arxiv.org/abs/2210.03629), ReAct is a reasoning and acting paradigm that guides LLM to respond in a structured manager to complex queries. Reasoning and actions are interleaved and progressive, in the manner of chain of thought, so that LLM progresses from one result to another, using the previous answer.\n",
    "\n",
    "<img src=\"https://www.promptingguide.ai/_next/image?url=%2F_next%2Fstatic%2Fmedia%2Freact.8e7c93ae.png&w=1920&q=75\">\n",
    "\n",
    "Results suggest that ReAct outperforms other leading methods in language and decision-making tasks, enhancing human understanding and trusting in large language models (LLMs). It is best when combined with chain-of-thought (CoT) steps as individual tasks with results being used for the next step, utilizing both internal knowledge and external information during reasoning.\n",
    "\n",
    "Let's first use a few-shot examples to indicate how an LLM should progress with its reasoning and acting to solve a complex query, requiring intermideiate results to progress to its final outcome\n",
    "\n",
    "**Note**: \n",
    "This DSPy notebook is conversion of [LLM ReAct prompting notebook](../llm-prompts/7_how_to_use_react_prompt.ipynb) using DSPy modules"
   ]
  },
  {
   "cell_type": "code",
   "execution_count": 1,
   "id": "d4666f55-0188-4629-807f-2f04769d9b14",
   "metadata": {},
   "outputs": [],
   "source": [
    "import warnings\n",
    "import dspy\n",
    "from dspy.teleprompt import LabeledFewShot\n",
    "\n",
    "from dspy_utils import BOLD_BEGIN, BOLD_END, ThoughtReflection\n",
    "from dspy_examples_utils import get_few_shot_dspy_examples\n",
    "warnings.filterwarnings(\"ignore\")"
   ]
  },
  {
   "cell_type": "markdown",
   "id": "003e71d0-c623-4a90-bb33-63a9d962bf9b",
   "metadata": {},
   "source": [
    "### Instantiate our Language Model"
   ]
  },
  {
   "cell_type": "code",
   "execution_count": 2,
   "id": "72eab348-93c5-41a2-950f-247a087bfe5f",
   "metadata": {},
   "outputs": [],
   "source": [
    "# Setup OLlama environment on the local machine\n",
    "ollama_mistral = dspy.OllamaLocal(model='mistral',\n",
    "                                      max_tokens=5000)\n",
    "# Instantiate the ColBERTv2 as Retrieval module\n",
    "colbert_rm = dspy.ColBERTv2(url='http://20.102.90.50:2017/wiki17_abstracts')\n",
    "\n",
    "# Configure the settings\n",
    "dspy.settings.configure(lm=ollama_mistral, rm=colbert_rm)"
   ]
  },
  {
   "cell_type": "markdown",
   "id": "57635341-0d91-412c-8b06-75d4a15a434b",
   "metadata": {},
   "source": [
    "### Get some few-shot DSPy Examples"
   ]
  },
  {
   "cell_type": "code",
   "execution_count": 3,
   "id": "38d3527f-7ceb-4ab1-afce-5e8ffd666e78",
   "metadata": {},
   "outputs": [
    {
     "data": {
      "text/plain": [
       "Example({'question': 'What is the elevation range for the area that the eastern sector of the\\n                    Colorado orogeny extends into?', 'thought_1': 'I need to search Colorado orogeny, find the area that the eastern sector\\n                        of the Colorado orogeny extends into, then find the elevation range of the\\n                        area.', 'action_1': 'Search[Colorado orogeny]', 'observation_1': 'The Colorado orogeny was an episode of mountain building (an orogeny) in\\n                          Colorado and surrounding areas. It occurred during the Late Cretaceous and early Paleogene periods of the', 'thought_2': 'It does not mention the eastern sector. So I need to look up eastern sector.', 'action_2': 'Search[eastern sector]', 'observation_2': '(Result 1 / 1) The eastern sector extends into the High Plains and is called\\n                        the Central Plains orogeny. .', 'thought_3': 'The eastern sector of Colorado orogeny extends into the High Plains. So I\\n                    need to search High Plains and find its elevation range.', 'action_3': 'Search[High Plains]', 'observation_3': 'High Plains refers to one of two distinct land regions', 'thought_4': 'I need to instead search High Plains (United States).', 'action_4': 'Search[High Plains (United States)]', 'observation_4': 'The High Plains are a subregion of the Great Plains. From east to west, the\\n                        High Plains rise in elevation from around 1,800 to 7,000 ft (550 to 2,130\\n                    m).[3]', 'thought_5': ' High Plains rise in elevation from around 1,800 to 7,000 ft, so the answer\\n                    is 1,800 to 7,000 ft.', 'answer': 'Finish[1,800 to 7,000 ft]'}) (input_keys={'question'})"
      ]
     },
     "execution_count": 3,
     "metadata": {},
     "output_type": "execute_result"
    }
   ],
   "source": [
    "# Get some few-shot DSPy Examples for the module to learn and respond\n",
    "# according\n",
    "examples_set = get_few_shot_dspy_examples()\n",
    "examples_set[0]"
   ]
  },
  {
   "cell_type": "markdown",
   "id": "a2a88895-744b-4c2e-8c4e-304a27dfc966",
   "metadata": {},
   "source": [
    "### Instantiate the ThoughtReflection module"
   ]
  },
  {
   "cell_type": "code",
   "execution_count": 4,
   "id": "7fceb599-fc34-4b2f-97c4-7c46aa921d7a",
   "metadata": {},
   "outputs": [],
   "source": [
    "tought_of_reflection = ThoughtReflection()"
   ]
  },
  {
   "cell_type": "markdown",
   "id": "36dda410-d677-4aae-b1a6-f9c11e02be67",
   "metadata": {},
   "source": [
    "### Set up a basic teleprompter optimizer "
   ]
  },
  {
   "cell_type": "code",
   "execution_count": 5,
   "id": "d31317f7-053a-4b71-acf2-536dd3058d79",
   "metadata": {},
   "outputs": [],
   "source": [
    "# Set up a basic teleprompter optimizer \n",
    "# and use it to compile our ReACT program.\n",
    "teleprompter = LabeledFewShot(k=5)"
   ]
  },
  {
   "cell_type": "markdown",
   "id": "4b561634-bfa0-42c6-a45e-03b3d2423f3e",
   "metadata": {},
   "source": [
    "### Compile the ReAct module"
   ]
  },
  {
   "cell_type": "code",
   "execution_count": 6,
   "id": "95c95cad-db9c-4cdf-8900-293d0f34767b",
   "metadata": {},
   "outputs": [],
   "source": [
    "# Compile the ReACT model\n",
    "compiled_tf= teleprompter.compile(tought_of_reflection, trainset=examples_set)"
   ]
  },
  {
   "cell_type": "markdown",
   "id": "9c491593-b411-4e9c-994d-e44bc9e739a8",
   "metadata": {},
   "source": [
    "#### Example 1: Use a in-context example for calculating the pace and rate each day of climbing Mount Kilimajaro"
   ]
  },
  {
   "cell_type": "code",
   "execution_count": 7,
   "id": "4ca9f56c-6856-4f3b-946d-932d61e87457",
   "metadata": {},
   "outputs": [],
   "source": [
    "question = \"\"\"\"Based on information provided to you upto 2023, \n",
    "                what is the elevation in feet of Mount Kilimanjoro?\n",
    "                What is the recommended and healthy way to climb the mountain \n",
    "                in terms of ascending number of feet per day?\n",
    "                and how long will it take to get to the top?\"\"\""
   ]
  },
  {
   "cell_type": "code",
   "execution_count": 8,
   "id": "24cb73e7-c7b4-4f3a-a562-d4dab3f2d4ba",
   "metadata": {},
   "outputs": [],
   "source": [
    "answer = compiled_tf(question)"
   ]
  },
  {
   "cell_type": "code",
   "execution_count": 9,
   "id": "65864d82-76e1-4c85-8cc7-186c8d424a9b",
   "metadata": {},
   "outputs": [
    {
     "name": "stdout",
     "output_type": "stream",
     "text": [
      "\u001b[1mAnswer    : \u001b[0mPrediction(\n",
      "    rationale=\"evaluate each attempt.\\n\\nStudent Attempt #1: The student correctly states that Mount Kilimanjaro has an elevation of approximately 19,341 feet (5,895 meters) and provides a prediction for the number of days it would take to reach the summit based on a daily ascent of no more than 3,000 feet. However, the student does not mention the need for acclimatization days, which are essential when climbing at high altitudes.\\n\\nStudent Attempt #2: The student's prediction is consistent with the given information about Mount Kilimanjaro's elevation and the recommended daily ascent rate. However, there's no mention of acclimatization days or their importance in the mountaineering context.\\n\\nStudent Attempt #3: This student's attempt is similar to the previous ones. They correctly state Mount Kilimanjaro's elevation and provide a prediction for the number of days it would take to reach the summit while considering daily ascent rates and acclimatization days. However, they don't specify that their prediction includes acclimatization days, which could lead to confusion.\\n\\nStudent Attempt #4: This student provides an accurate and detailed answer. They state Mount Kilimanjaro's elevation, recommend a daily ascent rate, and explain the importance of acclimatization days in the context of mountaineering. Their prediction includes both climbing and acclimatization days, making it more comprehensive than others.\\n\\nStudent Attempt #5: This student's attempt is almost identical to the correct answer. They correctly state Mount Kilimanjaro's elevation, recommend a daily ascent rate, and provide an accurate prediction for the number of days it would take to reach the summit while accounting for acclimatization days.\\n\\nRanking: 1. Student Attempt #4; 2. Student Attempt #5; 3. Student Attempt #1 (tie) and Student Attempt #3; \\n\\nExplanation: The correct answer should take into account all the given factors, such as daily ascent rates and acclimatization days. Therefore, Student Attempts #4 and #5 are ranked higher since they provide a more comprehensive answer that accounts for both factors. Student Attempt #1 is ranked third because it does not mention acclimatization days, which is an essential aspect of mountaineering. Finally, Student Attempt #2 is not ranked as it does not provide a prediction or an accurate reasoning based on the given information.\",\n",
      "    answer='The correct answer would be similar to Student Attempts #4 and #5, taking into account both daily ascent rates and acclimatization days when predicting the number of days it would take to reach the summit of Mount Kilimanjaro. For example, a common itinerary for climbing Mount Kilimanjaro includes 2-3 days for acclimatization and 4-5 days for summit ascents, making the total time around 6-7 days. However, individual climbing plans may vary depending on factors such as fitness level, experience, and personal preferences.'\n",
      ")\n"
     ]
    }
   ],
   "source": [
    "print(f\"{BOLD_BEGIN}Answer    : {BOLD_END}{answer}\")"
   ]
  },
  {
   "cell_type": "markdown",
   "id": "b328b729-c0ba-4c3e-94e3-240826590ab4",
   "metadata": {},
   "source": [
    "### Examine optimized prompts generated for the LLMs"
   ]
  },
  {
   "cell_type": "code",
   "execution_count": 10,
   "id": "d4df69bc-807f-43d8-a643-f70f4bb30071",
   "metadata": {},
   "outputs": [
    {
     "name": "stdout",
     "output_type": "stream",
     "text": [
      "\n",
      "\n",
      "\n",
      "Given the fields `question`, produce the fields `answer`.\n",
      "\n",
      "---\n",
      "\n",
      "Question: Based on information provided to you upto 2023, Who was Olivia Wilde's boyfriend? What is his current age raised to the 0.23 power?\n",
      "Answer: Finish[2.66]\n",
      "\n",
      "Question: Based on information provided to you upto 2023, how do you calculate the value of PI. With its current value of PI, given a circle of diameter 2 meters, what its its circumcernce and area?\n",
      "Answer: Finish[Circumference: 6.28318 meters, Area: 3.14159 square meters]\n",
      "\n",
      "Question: What is the elevation range for the area that the eastern sector of the Colorado orogeny extends into?\n",
      "Answer: Finish[1,800 to 7,000 ft]\n",
      "\n",
      "---\n",
      "\n",
      "Follow the following format.\n",
      "\n",
      "Question: ${question}\n",
      "\n",
      "Student Attempt #1: ${reasoning attempt}\n",
      "\n",
      "Student Attempt #2: ${reasoning attempt}\n",
      "\n",
      "Student Attempt #3: ${reasoning attempt}\n",
      "\n",
      "Student Attempt #4: ${reasoning attempt}\n",
      "\n",
      "Student Attempt #5: ${reasoning attempt}\n",
      "\n",
      "Accurate Reasoning: Thank you everyone. Let's now holistically ${corrected reasoning}\n",
      "\n",
      "Answer: ${answer}\n",
      "\n",
      "---\n",
      "\n",
      "Question: \"Based on information provided to you upto 2023, what is the elevation in feet of Mount Kilimanjoro? What is the recommended and healthy way to climb the mountain in terms of ascending number of feet per day? and how long will it take to get to the top?\n",
      "\n",
      "Student Attempt #1: «I'm trying to provide an answer. I'm not sure but my prediction is The elevation of Mount Kilimanjaro is approximately 19,341 feet (5,895 meters), and it takes about 6 to 7 days to reach the top in a healthy way.»\n",
      "\n",
      "Student Attempt #2: «I'm trying to answer the question about Mount Kilimanjaro. The elevation of Mount Kilimanjaro is approximately 19,341 feet (5,895 meters). The recommended rate of ascent for climbers is around 3,000 feet per day, with an additional acclimatization day every 2,000 feet. Based on this information, it would take approximately 7 days to reach the summit, including rest days for acclimatization. I'm not sure but my prediction is The elevation of Mount Kilimanjaro is around 19,341 feet (5,895 meters). To safely climb the mountain, it's recommended to ascend no more than 3,000 feet per day, with an additional acclimatization day every 2,000 feet. Following this guideline, it would take approximately 7 days to reach the summit of Mount Kilimanjaro.»\n",
      "\n",
      "Student Attempt #3: «I'm trying to answer the question about Mount Kilimanjaro. I'm not sure but my prediction is The elevation of Mount Kilimanjaro is approximately 19,341 feet (5,895 meters). To reach the summit in a recommended and healthy manner, aim for a daily elevation gain of no more than 3,000 feet per day. This would mean it takes approximately 7 days to climb Mount Kilimanjaro.»\n",
      "\n",
      "Student Attempt #4: «I'm trying to Answer the question about Mount Kilimanjaro. I'm not sure but my prediction is The elevation of Mount Kilimanjaro is approximately 19,341 feet (5,895 meters). A healthy and recommended ascent rate for climbers is around 3,000 feet (914 meters) per day. With this rate, it would take about 7 days to reach the summit of Mount Kilimanjaro from the base camp. However, this timeframe includes acclimatization days, so the actual climbing days may be fewer. It is important for climbers to adjust their ascent rates based on personal fitness and altitude tolerance.»\n",
      "\n",
      "Student Attempt #5: «I'm trying to Answer: [Mount Kilimanjaro's elevation is approximately 19,341 feet (5,895 meters). A safe and recommended climbing itinerary suggests ascending no more than 3,000 feet per day. Given this information, it would take approximately six days to reach the summit.] I'm not sure but my prediction is [Mount Kilimanjaro's elevation is approximately 19,341 feet (5,895 meters). It is recommended to ascend no more than 3,000 feet per day. Therefore, it would take about six days to reach the summit.]»\n",
      "\n",
      "Accurate Reasoning: Thank you everyone. Let's now holistically evaluate each attempt. Student Attempt #1: The student correctly states that Mount Kilimanjaro has an elevation of approximately 19,341 feet (5,895 meters) and provides a prediction for the number of days it would take to reach the summit based on a daily ascent of no more than 3,000 feet. However, the student does not mention the need for acclimatization days, which are essential when climbing at high altitudes. Student Attempt #2: The student's prediction is consistent with the given information about Mount Kilimanjaro's elevation and the recommended daily ascent rate. However, there's no mention of acclimatization days or their importance in the mountaineering context. Student Attempt #3: This student's attempt is similar to the previous ones. They correctly state Mount Kilimanjaro's elevation and provide a prediction for the number of days it would take to reach the summit while considering daily ascent rates and acclimatization days. However, they don't specify that their prediction includes acclimatization days, which could lead to confusion. Student Attempt #4: This student provides an accurate and detailed answer. They state Mount Kilimanjaro's elevation, recommend a daily ascent rate, and explain the importance of acclimatization days in the context of mountaineering. Their prediction includes both climbing and acclimatization days, making it more comprehensive than others. Student Attempt #5: This student's attempt is almost identical to the correct answer. They correctly state Mount Kilimanjaro's elevation, recommend a daily ascent rate, and provide an accurate prediction for the number of days it would take to reach the summit while accounting for acclimatization days. Ranking: 1. Student Attempt #4; 2. Student Attempt #5; 3. Student Attempt #1 (tie) and Student Attempt #3; Explanation: The correct answer should take into account all the given factors, such as daily ascent rates and acclimatization days. Therefore, Student Attempts #4 and #5 are ranked higher since they provide a more comprehensive answer that accounts for both factors. Student Attempt #1 is ranked third because it does not mention acclimatization days, which is an essential aspect of mountaineering. Finally, Student Attempt #2 is not ranked as it does not provide a prediction or an accurate reasoning based on the given information.\n",
      "\n",
      "Answer:\u001b[32m The correct answer would be similar to Student Attempts #4 and #5, taking into account both daily ascent rates and acclimatization days when predicting the number of days it would take to reach the summit of Mount Kilimanjaro. For example, a common itinerary for climbing Mount Kilimanjaro includes 2-3 days for acclimatization and 4-5 days for summit ascents, making the total time around 6-7 days. However, individual climbing plans may vary depending on factors such as fitness level, experience, and personal preferences.\u001b[0m\n",
      "\n",
      "\n",
      "\n",
      "\n",
      "\n",
      "\n",
      "Given the fields `question`, produce the fields `answer`.\n",
      "\n",
      "---\n",
      "\n",
      "Question: Based on information provided to you upto 2023, Who was Olivia Wilde's boyfriend? What is his current age raised to the 0.23 power?\n",
      "Answer: Finish[2.66]\n",
      "\n",
      "Question: Based on information provided to you upto 2023, how do you calculate the value of PI. With its current value of PI, given a circle of diameter 2 meters, what its its circumcernce and area?\n",
      "Answer: Finish[Circumference: 6.28318 meters, Area: 3.14159 square meters]\n",
      "\n",
      "Question: What is the elevation range for the area that the eastern sector of the Colorado orogeny extends into?\n",
      "Answer: Finish[1,800 to 7,000 ft]\n",
      "\n",
      "---\n",
      "\n",
      "Follow the following format.\n",
      "\n",
      "Question: ${question}\n",
      "\n",
      "Student Attempt #1: ${reasoning attempt}\n",
      "\n",
      "Student Attempt #2: ${reasoning attempt}\n",
      "\n",
      "Student Attempt #3: ${reasoning attempt}\n",
      "\n",
      "Student Attempt #4: ${reasoning attempt}\n",
      "\n",
      "Student Attempt #5: ${reasoning attempt}\n",
      "\n",
      "Accurate Reasoning: Thank you everyone. Let's now holistically ${corrected reasoning}\n",
      "\n",
      "Answer: ${answer}\n",
      "\n",
      "---\n",
      "\n",
      "Question: \"Based on information provided to you upto 2023, what is the elevation in feet of Mount Kilimanjoro? What is the recommended and healthy way to climb the mountain in terms of ascending number of feet per day? and how long will it take to get to the top?\n",
      "\n",
      "Student Attempt #1: «I'm trying to provide an answer. I'm not sure but my prediction is The elevation of Mount Kilimanjaro is approximately 19,341 feet (5,895 meters), and it takes about 6 to 7 days to reach the top in a healthy way.»\n",
      "\n",
      "Student Attempt #2: «I'm trying to answer the question about Mount Kilimanjaro. The elevation of Mount Kilimanjaro is approximately 19,341 feet (5,895 meters). The recommended rate of ascent for climbers is around 3,000 feet per day, with an additional acclimatization day every 2,000 feet. Based on this information, it would take approximately 7 days to reach the summit, including rest days for acclimatization. I'm not sure but my prediction is The elevation of Mount Kilimanjaro is around 19,341 feet (5,895 meters). To safely climb the mountain, it's recommended to ascend no more than 3,000 feet per day, with an additional acclimatization day every 2,000 feet. Following this guideline, it would take approximately 7 days to reach the summit of Mount Kilimanjaro.»\n",
      "\n",
      "Student Attempt #3: «I'm trying to answer the question about Mount Kilimanjaro. I'm not sure but my prediction is The elevation of Mount Kilimanjaro is approximately 19,341 feet (5,895 meters). To reach the summit in a recommended and healthy manner, aim for a daily elevation gain of no more than 3,000 feet per day. This would mean it takes approximately 7 days to climb Mount Kilimanjaro.»\n",
      "\n",
      "Student Attempt #4: «I'm trying to Answer the question about Mount Kilimanjaro. I'm not sure but my prediction is The elevation of Mount Kilimanjaro is approximately 19,341 feet (5,895 meters). A healthy and recommended ascent rate for climbers is around 3,000 feet (914 meters) per day. With this rate, it would take about 7 days to reach the summit of Mount Kilimanjaro from the base camp. However, this timeframe includes acclimatization days, so the actual climbing days may be fewer. It is important for climbers to adjust their ascent rates based on personal fitness and altitude tolerance.»\n",
      "\n",
      "Student Attempt #5: «I'm trying to Answer: [Mount Kilimanjaro's elevation is approximately 19,341 feet (5,895 meters). A safe and recommended climbing itinerary suggests ascending no more than 3,000 feet per day. Given this information, it would take approximately six days to reach the summit.] I'm not sure but my prediction is [Mount Kilimanjaro's elevation is approximately 19,341 feet (5,895 meters). It is recommended to ascend no more than 3,000 feet per day. Therefore, it would take about six days to reach the summit.]»\n",
      "\n",
      "Accurate Reasoning: Thank you everyone. Let's now holistically evaluate each attempt. Student Attempt #1: The student correctly states that Mount Kilimanjaro has an elevation of approximately 19,341 feet (5,895 meters) and provides a prediction for the number of days it would take to reach the summit based on a daily ascent of no more than 3,000 feet. However, the student does not mention the need for acclimatization days, which are essential when climbing at high altitudes. Student Attempt #2: The student's prediction is consistent with the given information about Mount Kilimanjaro's elevation and the recommended daily ascent rate. However, there's no mention of acclimatization days or their importance in the mountaineering context. Student Attempt #3: This student's attempt is similar to the previous ones. They correctly state Mount Kilimanjaro's elevation and provide a prediction for the number of days it would take to reach the summit while considering daily ascent rates and acclimatization days. However, they don't specify that their prediction includes acclimatization days, which could lead to confusion. Student Attempt #4: This student provides an accurate and detailed answer. They state Mount Kilimanjaro's elevation, recommend a daily ascent rate, and explain the importance of acclimatization days in the context of mountaineering. Their prediction includes both climbing and acclimatization days, making it more comprehensive than others. Student Attempt #5: This student's attempt is almost identical to the correct answer. They correctly state Mount Kilimanjaro's elevation, recommend a daily ascent rate, and provide an accurate prediction for the number of days it would take to reach the summit while accounting for acclimatization days. Ranking: 1. Student Attempt #4; 2. Student Attempt #5; 3. Student Attempt #1 (tie) and Student Attempt #3; Explanation: The correct answer should take into account all the given factors, such as daily ascent rates and acclimatization days. Therefore, Student Attempts #4 and #5 are ranked higher since they provide a more comprehensive answer that accounts for both factors. Student Attempt #1 is ranked third because it does not mention acclimatization days, which is an essential aspect of mountaineering. Finally, Student Attempt #2 is not ranked as it does not provide a prediction or an accurate reasoning based on the given information.\n",
      "\n",
      "Answer:\u001b[32m The correct answer would be similar to Student Attempts #4 and #5, taking into account both daily ascent rates and acclimatization days when predicting the number of days it would take to reach the summit of Mount Kilimanjaro. For example, a common itinerary for climbing Mount Kilimanjaro includes 2-3 days for acclimatization and 4-5 days for summit ascents, making the total time around 6-7 days. However, individual climbing plans may vary depending on factors such as fitness level, experience, and personal preferences.\u001b[0m\n",
      "\n",
      "\n",
      "\n"
     ]
    }
   ],
   "source": [
    "# Examine the history of the prompts generated by the ReACT model\n",
    "print(ollama_mistral.inspect_history(n=1))"
   ]
  },
  {
   "cell_type": "markdown",
   "id": "11677faa-8fa1-4470-a37a-ac121c264f16",
   "metadata": {},
   "source": [
    "#### Example 2: Use a in-context example for quering history of an Apple gadget from its existing knowledge base"
   ]
  },
  {
   "cell_type": "code",
   "execution_count": 7,
   "id": "f27c976f-a662-47ad-87d6-3ca679f43b8b",
   "metadata": {},
   "outputs": [],
   "source": [
    "question = \"\"\"\n",
    "            Based on information provided to you upto 2023, aside from the Apple Remote, what other devices can \n",
    "            control the program Apple Remote was originally designed to interact with?\"\"\""
   ]
  },
  {
   "cell_type": "code",
   "execution_count": null,
   "id": "166c47e0-ea53-4ed6-bae3-b1d49c349b6a",
   "metadata": {},
   "outputs": [],
   "source": [
    "answer = compiled_tf(question)"
   ]
  },
  {
   "cell_type": "code",
   "execution_count": null,
   "id": "f93efc53-acbc-43e2-9b7f-94ea0b45c213",
   "metadata": {},
   "outputs": [],
   "source": [
    "print(f\"{BOLD_BEGIN}Answer    : {BOLD_END}{answer}\")"
   ]
  },
  {
   "cell_type": "code",
   "execution_count": null,
   "id": "b9ee85c3-9ef0-445a-bdbe-845fd218fddc",
   "metadata": {},
   "outputs": [],
   "source": [
    "# Examine the history of the prompts generated by the ReACT model\n",
    "print(ollama_mistral.inspect_history(n=1))"
   ]
  },
  {
   "cell_type": "markdown",
   "id": "91eae264-bfd8-4056-b26c-884909ac1179",
   "metadata": {},
   "source": [
    "#### Example 3: Use an in-context example for converting `HH:MM:SS` string format into seconds using ReAct prompting"
   ]
  },
  {
   "cell_type": "code",
   "execution_count": 11,
   "id": "ec4ebf57-9bb2-43de-9809-d04895012b3e",
   "metadata": {},
   "outputs": [],
   "source": [
    "question = \"\"\"Convert a time string with format H:MM:SS to seconds. How do you convert 3:56:25 into seconds?\n",
    "\"\"\""
   ]
  },
  {
   "cell_type": "code",
   "execution_count": null,
   "id": "c2eb27eb-7e38-4a70-9a9f-35b5b9c0f2f0",
   "metadata": {},
   "outputs": [],
   "source": [
    "answer = compiled_tf(question)"
   ]
  },
  {
   "cell_type": "code",
   "execution_count": null,
   "id": "4601dc7f-5e2a-4a42-ba66-2e9c254c0afa",
   "metadata": {},
   "outputs": [],
   "source": [
    "print(f\"{BOLD_BEGIN}Answer    : {BOLD_END}{answer}\")"
   ]
  },
  {
   "cell_type": "code",
   "execution_count": null,
   "id": "cfd8e2a4-37c9-40dc-b1d2-39c39cde87ef",
   "metadata": {},
   "outputs": [],
   "source": [
    "# Examine the history of the prompts generated by the ReACT model\n",
    "print(ollama_mistral.inspect_history(n=1))"
   ]
  },
  {
   "cell_type": "markdown",
   "id": "b9569817-a6ff-4e4f-8485-46bfd8ca7b76",
   "metadata": {},
   "source": [
    "## All this is amazing! 😜 Feel the wizardy in DSPy power 🧙‍♀️"
   ]
  }
 ],
 "metadata": {
  "kernelspec": {
   "display_name": "Python 3 (ipykernel)",
   "language": "python",
   "name": "python3"
  },
  "language_info": {
   "codemirror_mode": {
    "name": "ipython",
    "version": 3
   },
   "file_extension": ".py",
   "mimetype": "text/x-python",
   "name": "python",
   "nbconvert_exporter": "python",
   "pygments_lexer": "ipython3",
   "version": "3.10.13"
  }
 },
 "nbformat": 4,
 "nbformat_minor": 5
}
